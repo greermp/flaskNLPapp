{
 "cells": [
  {
   "cell_type": "code",
   "execution_count": 1,
   "metadata": {},
   "outputs": [
    {
     "name": "stderr",
     "output_type": "stream",
     "text": [
      "Using TensorFlow backend.\n"
     ]
    }
   ],
   "source": [
    "#load os\n",
    "import os\n",
    "\n",
    "#load Flask \n",
    "#pip install flask==0.12.4\n",
    "import flask\n",
    "app = flask.Flask(__name__)\n",
    "#comment out line before production, only needed during testing:\n",
    "#app.config['TESTING'] = True\n",
    "from flask import Flask, render_template,request\n",
    "\n",
    "#load model preprocessing\n",
    "import numpy as np\n",
    "import pandas as pd\n",
    "from keras.preprocessing.text import Tokenizer\n",
    "from keras.preprocessing.sequence import pad_sequences\n",
    "import keras.models\n",
    "from keras.models import model_from_json\n",
    "from keras.layers import Input"
   ]
  },
  {
   "cell_type": "markdown",
   "metadata": {},
   "source": [
    "watch: \n",
    "\n",
    "https://www.youtube.com/watch?v=MwZwr5Tvyxo \n",
    "\n",
    "https://www.youtube.com/watch?v=f6Bf3gl4hWY&t=1743s\n",
    "\n",
    "https://www.youtube.com/watch?v=IIi6e5oDZ68\n",
    "\n",
    "https://www.youtube.com/watch?v=RbejfDTHhhg\n",
    "\n",
    "see code: https://github.com/llSourcell/how_to_deploy_a_keras_model_to_production"
   ]
  },
  {
   "cell_type": "code",
   "execution_count": 2,
   "metadata": {},
   "outputs": [
    {
     "name": "stdout",
     "output_type": "stream",
     "text": [
      "WARNING:tensorflow:Large dropout rate: 0.6 (>0.5). In TensorFlow 2.x, dropout() uses dropout rate instead of keep_prob. Please ensure that this is intended.\n",
      "Loaded Model from disk\n"
     ]
    }
   ],
   "source": [
    "# Load pre-trained model into memory\n",
    "json_file = open('model.json','r')\n",
    "loaded_model_json = json_file.read()\n",
    "json_file.close()\n",
    "loaded_model = model_from_json(loaded_model_json)\n",
    "#load weights into new model\n",
    "loaded_model.load_weights(\"model.h5\")\n",
    "print(\"Loaded Model from disk\")"
   ]
  },
  {
   "cell_type": "code",
   "execution_count": 3,
   "metadata": {},
   "outputs": [],
   "source": [
    "# Helper function for tokenizing text to feed through pre-trained deep learning network\n",
    "def prepDataForDeepLearning(text):\n",
    "    trainWordFeatures = tokenizer.texts_to_sequences(text)\n",
    "    textTokenized = pad_sequences(trainWordFeatures, 201, padding='post')\n",
    "    \n",
    "    return textTokenized"
   ]
  },
  {
   "cell_type": "code",
   "execution_count": 4,
   "metadata": {},
   "outputs": [],
   "source": [
    "# Load files needed to create proper matrix using tokens from training data\n",
    "inputDataTrain = pd.DataFrame(pd.read_csv(\"train_DrugExp_Text.tsv\", \"\\t\", header=None))\n",
    "trainText = [item[1] for item in inputDataTrain.values.tolist()]\n",
    "trainingLabels = [0 if item[0] == -1 else 1 for item in inputDataTrain.values.tolist()]\n",
    "\n",
    "VOCABULARY_SIZE=10000\n",
    "tokenizer = Tokenizer(num_words=VOCABULARY_SIZE)\n",
    "tokenizer.fit_on_texts(trainText)\n",
    "\n",
    "## convert words into word ids\n",
    "meanLength = np.mean([len(item.split(\" \")) for item in trainText])\n",
    "\n",
    "textTokenized = prepDataForDeepLearning(trainText)"
   ]
  },
  {
   "cell_type": "code",
   "execution_count": 5,
   "metadata": {},
   "outputs": [],
   "source": [
    "loaded_model.compile(loss='binary_crossentropy',optimizer='adam',metrics=['accuracy'])"
   ]
  },
  {
   "cell_type": "code",
   "execution_count": 6,
   "metadata": {},
   "outputs": [
    {
     "name": "stdout",
     "output_type": "stream",
     "text": [
      "8163/8163 [==============================] - 5s 625us/step\n",
      "loss: 0.29178407178119486\n",
      "accuracy: 0.9245375394821167\n"
     ]
    }
   ],
   "source": [
    "#Test that model works based on accuracy in-sample (comment out to run more quickly)\n",
    "#Note: this model performs at about 82% out-of-sample\n",
    "loss, accuracy = loaded_model.evaluate(textTokenized,trainingLabels)\n",
    "print('loss:', loss)\n",
    "print('accuracy:', accuracy)"
   ]
  },
  {
   "cell_type": "code",
   "execution_count": 7,
   "metadata": {},
   "outputs": [
    {
     "name": "stderr",
     "output_type": "stream",
     "text": [
      "/Users/simmy/darden_env/lib/python3.6/site-packages/ipykernel_launcher.py:5: DeprecationWarning: np.asscalar(a) is deprecated since NumPy v1.16, use a.item() instead\n",
      "  \"\"\"\n"
     ]
    },
    {
     "data": {
      "text/plain": [
       "0.9211631342768669"
      ]
     },
     "execution_count": 7,
     "metadata": {},
     "output_type": "execute_result"
    }
   ],
   "source": [
    "#Test with some text (note: lower to zero = more severe):\n",
    "textDataTest = ['I had a severe reaction to my medication and it was not fun. I developed a severe rash and was not able to sleep. Terrible! I hate the doctor that gave this to me and I am never taking this drug again.']\n",
    "textTokenizedTest = prepDataForDeepLearning(textDataTest)\n",
    "#Note: subtract to get things into severity probability:\n",
    "out = 1-np.asscalar(loaded_model.predict(textTokenizedTest))\n",
    "out"
   ]
  },
  {
   "cell_type": "code",
   "execution_count": 8,
   "metadata": {},
   "outputs": [
    {
     "name": "stderr",
     "output_type": "stream",
     "text": [
      "/Users/simmy/darden_env/lib/python3.6/site-packages/ipykernel_launcher.py:5: DeprecationWarning: np.asscalar(a) is deprecated since NumPy v1.16, use a.item() instead\n",
      "  \"\"\"\n"
     ]
    },
    {
     "data": {
      "text/plain": [
       "0.2020358443260193"
      ]
     },
     "execution_count": 8,
     "metadata": {},
     "output_type": "execute_result"
    }
   ],
   "source": [
    "#Test with some text (note: lower to zero = more severe):\n",
    "textDataTest = ['I love my medication!']\n",
    "textTokenizedTest = prepDataForDeepLearning(textDataTest)\n",
    "#Note: subtract to get things into severity probability:\n",
    "out = 1-np.asscalar(loaded_model.predict(textTokenizedTest))\n",
    "out"
   ]
  },
  {
   "cell_type": "markdown",
   "metadata": {},
   "source": [
    "See above. The first message had a 92% probability being severe and the second had a 20% chance. \n",
    "Appears to be working!"
   ]
  },
  {
   "cell_type": "code",
   "execution_count": 9,
   "metadata": {},
   "outputs": [],
   "source": [
    "# define a predict function as an endpoint \n",
    "@app.route('/', methods=['GET','POST'])\n",
    "def predict():\n",
    "    #whenever the predict method is called, we're going\n",
    "    #to input the user entered text into the model\n",
    "    #and return a prediction\n",
    "    if request.method=='POST':\n",
    "        textData = request.form.get('text_entered')\n",
    "        print(textData)\n",
    "        textDataArray = [textData]\n",
    "        print(textDataArray)\n",
    "        textTokenized = prepDataForDeepLearning(textDataArray)\n",
    "        print(textTokenized)\n",
    "        prediction = int((1-np.asscalar(loaded_model.predict(textTokenized)))*100)\n",
    "        print(prediction)\n",
    "        #return prediction in new page\n",
    "        return render_template('prediction.html', prediction=prediction)\n",
    "    else:\n",
    "        return render_template(\"search_page.html\")   "
   ]
  },
  {
   "cell_type": "markdown",
   "metadata": {},
   "source": [
    "Note: This code likely will return error message. Follow instructions below to correct error.\n",
    "\n",
    "You need to edit the echo function definition at ../Lib/site-packages/click/utils.py the default value for the file parameter must be sys.stdout instead of None.\n",
    "\n",
    "Do the same for the secho function definition at ../Lib/site-packages/click/termui.py"
   ]
  },
  {
   "cell_type": "code",
   "execution_count": null,
   "metadata": {},
   "outputs": [
    {
     "name": "stdout",
     "output_type": "stream",
     "text": [
      " * Serving Flask app \"__main__\" (lazy loading)\n",
      " * Environment: production\n",
      "   WARNING: This is a development server. Do not use it in a production deployment.\n",
      "   Use a production WSGI server instead.\n",
      " * Debug mode: off\n"
     ]
    },
    {
     "name": "stderr",
     "output_type": "stream",
     "text": [
      " * Running on http://0.0.0.0:5000/ (Press CTRL+C to quit)\n",
      "127.0.0.1 - - [01/Feb/2020 10:37:30] \"\u001b[37mGET / HTTP/1.1\u001b[0m\" 200 -\n",
      "127.0.0.1 - - [01/Feb/2020 10:37:30] \"\u001b[33mGET /favicon.ico HTTP/1.1\u001b[0m\" 404 -\n",
      "[2020-02-01 10:37:37,357] ERROR in app: Exception on / [POST]\n",
      "Traceback (most recent call last):\n",
      "  File \"/Users/simmy/darden_env/lib/python3.6/site-packages/flask/app.py\", line 2446, in wsgi_app\n",
      "    response = self.full_dispatch_request()\n",
      "  File \"/Users/simmy/darden_env/lib/python3.6/site-packages/flask/app.py\", line 1951, in full_dispatch_request\n",
      "    rv = self.handle_user_exception(e)\n",
      "  File \"/Users/simmy/darden_env/lib/python3.6/site-packages/flask/app.py\", line 1820, in handle_user_exception\n",
      "    reraise(exc_type, exc_value, tb)\n",
      "  File \"/Users/simmy/darden_env/lib/python3.6/site-packages/flask/_compat.py\", line 39, in reraise\n",
      "    raise value\n",
      "  File \"/Users/simmy/darden_env/lib/python3.6/site-packages/flask/app.py\", line 1949, in full_dispatch_request\n",
      "    rv = self.dispatch_request()\n",
      "  File \"/Users/simmy/darden_env/lib/python3.6/site-packages/flask/app.py\", line 1935, in dispatch_request\n",
      "    return self.view_functions[rule.endpoint](**req.view_args)\n",
      "  File \"<ipython-input-9-445b0ac77c88>\", line 14, in predict\n",
      "    prediction = int((1-np.asscalar(loaded_model.predict(textTokenized)))*100)\n",
      "  File \"/Users/simmy/darden_env/lib/python3.6/site-packages/keras/engine/training.py\", line 1452, in predict\n",
      "    if self._uses_dynamic_learning_phase():\n",
      "  File \"/Users/simmy/darden_env/lib/python3.6/site-packages/keras/engine/training.py\", line 382, in _uses_dynamic_learning_phase\n",
      "    not isinstance(K.learning_phase(), int))\n",
      "  File \"/Users/simmy/darden_env/lib/python3.6/site-packages/keras/backend/tensorflow_backend.py\", line 73, in symbolic_fn_wrapper\n",
      "    if _SYMBOLIC_SCOPE.value:\n",
      "AttributeError: '_thread._local' object has no attribute 'value'\n",
      "127.0.0.1 - - [01/Feb/2020 10:37:37] \"\u001b[1m\u001b[35mPOST / HTTP/1.1\u001b[0m\" 500 -\n"
     ]
    },
    {
     "name": "stdout",
     "output_type": "stream",
     "text": [
      "i feel sick\n",
      "['i feel sick']\n",
      "[[  1  57 347   0   0   0   0   0   0   0   0   0   0   0   0   0   0   0\n",
      "    0   0   0   0   0   0   0   0   0   0   0   0   0   0   0   0   0   0\n",
      "    0   0   0   0   0   0   0   0   0   0   0   0   0   0   0   0   0   0\n",
      "    0   0   0   0   0   0   0   0   0   0   0   0   0   0   0   0   0   0\n",
      "    0   0   0   0   0   0   0   0   0   0   0   0   0   0   0   0   0   0\n",
      "    0   0   0   0   0   0   0   0   0   0   0   0   0   0   0   0   0   0\n",
      "    0   0   0   0   0   0   0   0   0   0   0   0   0   0   0   0   0   0\n",
      "    0   0   0   0   0   0   0   0   0   0   0   0   0   0   0   0   0   0\n",
      "    0   0   0   0   0   0   0   0   0   0   0   0   0   0   0   0   0   0\n",
      "    0   0   0   0   0   0   0   0   0   0   0   0   0   0   0   0   0   0\n",
      "    0   0   0   0   0   0   0   0   0   0   0   0   0   0   0   0   0   0\n",
      "    0   0   0]]\n"
     ]
    },
    {
     "name": "stderr",
     "output_type": "stream",
     "text": [
      "127.0.0.1 - - [01/Feb/2020 10:39:03] \"\u001b[37mGET / HTTP/1.1\u001b[0m\" 200 -\n",
      "[2020-02-01 10:39:06,135] ERROR in app: Exception on / [POST]\n",
      "Traceback (most recent call last):\n",
      "  File \"/Users/simmy/darden_env/lib/python3.6/site-packages/flask/app.py\", line 2446, in wsgi_app\n",
      "    response = self.full_dispatch_request()\n",
      "  File \"/Users/simmy/darden_env/lib/python3.6/site-packages/flask/app.py\", line 1951, in full_dispatch_request\n",
      "    rv = self.handle_user_exception(e)\n",
      "  File \"/Users/simmy/darden_env/lib/python3.6/site-packages/flask/app.py\", line 1820, in handle_user_exception\n",
      "    reraise(exc_type, exc_value, tb)\n",
      "  File \"/Users/simmy/darden_env/lib/python3.6/site-packages/flask/_compat.py\", line 39, in reraise\n",
      "    raise value\n",
      "  File \"/Users/simmy/darden_env/lib/python3.6/site-packages/flask/app.py\", line 1949, in full_dispatch_request\n",
      "    rv = self.dispatch_request()\n",
      "  File \"/Users/simmy/darden_env/lib/python3.6/site-packages/flask/app.py\", line 1935, in dispatch_request\n",
      "    return self.view_functions[rule.endpoint](**req.view_args)\n",
      "  File \"<ipython-input-9-445b0ac77c88>\", line 14, in predict\n",
      "    prediction = int((1-np.asscalar(loaded_model.predict(textTokenized)))*100)\n",
      "  File \"/Users/simmy/darden_env/lib/python3.6/site-packages/keras/engine/training.py\", line 1452, in predict\n",
      "    if self._uses_dynamic_learning_phase():\n",
      "  File \"/Users/simmy/darden_env/lib/python3.6/site-packages/keras/engine/training.py\", line 382, in _uses_dynamic_learning_phase\n",
      "    not isinstance(K.learning_phase(), int))\n",
      "  File \"/Users/simmy/darden_env/lib/python3.6/site-packages/keras/backend/tensorflow_backend.py\", line 73, in symbolic_fn_wrapper\n",
      "    if _SYMBOLIC_SCOPE.value:\n",
      "AttributeError: '_thread._local' object has no attribute 'value'\n",
      "127.0.0.1 - - [01/Feb/2020 10:39:06] \"\u001b[1m\u001b[35mPOST / HTTP/1.1\u001b[0m\" 500 -\n"
     ]
    },
    {
     "name": "stdout",
     "output_type": "stream",
     "text": [
      "sick\n",
      "['sick']\n",
      "[[347   0   0   0   0   0   0   0   0   0   0   0   0   0   0   0   0   0\n",
      "    0   0   0   0   0   0   0   0   0   0   0   0   0   0   0   0   0   0\n",
      "    0   0   0   0   0   0   0   0   0   0   0   0   0   0   0   0   0   0\n",
      "    0   0   0   0   0   0   0   0   0   0   0   0   0   0   0   0   0   0\n",
      "    0   0   0   0   0   0   0   0   0   0   0   0   0   0   0   0   0   0\n",
      "    0   0   0   0   0   0   0   0   0   0   0   0   0   0   0   0   0   0\n",
      "    0   0   0   0   0   0   0   0   0   0   0   0   0   0   0   0   0   0\n",
      "    0   0   0   0   0   0   0   0   0   0   0   0   0   0   0   0   0   0\n",
      "    0   0   0   0   0   0   0   0   0   0   0   0   0   0   0   0   0   0\n",
      "    0   0   0   0   0   0   0   0   0   0   0   0   0   0   0   0   0   0\n",
      "    0   0   0   0   0   0   0   0   0   0   0   0   0   0   0   0   0   0\n",
      "    0   0   0]]\n"
     ]
    },
    {
     "name": "stderr",
     "output_type": "stream",
     "text": [
      "127.0.0.1 - - [01/Feb/2020 10:40:14] \"\u001b[37mGET / HTTP/1.1\u001b[0m\" 200 -\n",
      "127.0.0.1 - - [01/Feb/2020 10:40:16] \"\u001b[37mGET / HTTP/1.1\u001b[0m\" 200 -\n",
      "127.0.0.1 - - [01/Feb/2020 10:40:19] \"\u001b[33mGET /search_page.html HTTP/1.1\u001b[0m\" 404 -\n",
      "127.0.0.1 - - [01/Feb/2020 10:40:19] \"\u001b[33mGET /favicon.ico HTTP/1.1\u001b[0m\" 404 -\n",
      "127.0.0.1 - - [01/Feb/2020 10:47:17] \"\u001b[37mGET / HTTP/1.1\u001b[0m\" 200 -\n",
      "[2020-02-01 10:47:22,425] ERROR in app: Exception on / [POST]\n",
      "Traceback (most recent call last):\n",
      "  File \"/Users/simmy/darden_env/lib/python3.6/site-packages/flask/app.py\", line 2446, in wsgi_app\n",
      "    response = self.full_dispatch_request()\n",
      "  File \"/Users/simmy/darden_env/lib/python3.6/site-packages/flask/app.py\", line 1951, in full_dispatch_request\n",
      "    rv = self.handle_user_exception(e)\n",
      "  File \"/Users/simmy/darden_env/lib/python3.6/site-packages/flask/app.py\", line 1820, in handle_user_exception\n",
      "    reraise(exc_type, exc_value, tb)\n",
      "  File \"/Users/simmy/darden_env/lib/python3.6/site-packages/flask/_compat.py\", line 39, in reraise\n",
      "    raise value\n",
      "  File \"/Users/simmy/darden_env/lib/python3.6/site-packages/flask/app.py\", line 1949, in full_dispatch_request\n",
      "    rv = self.dispatch_request()\n",
      "  File \"/Users/simmy/darden_env/lib/python3.6/site-packages/flask/app.py\", line 1935, in dispatch_request\n",
      "    return self.view_functions[rule.endpoint](**req.view_args)\n",
      "  File \"<ipython-input-9-445b0ac77c88>\", line 14, in predict\n",
      "    prediction = int((1-np.asscalar(loaded_model.predict(textTokenized)))*100)\n",
      "  File \"/Users/simmy/darden_env/lib/python3.6/site-packages/keras/engine/training.py\", line 1452, in predict\n",
      "    if self._uses_dynamic_learning_phase():\n",
      "  File \"/Users/simmy/darden_env/lib/python3.6/site-packages/keras/engine/training.py\", line 382, in _uses_dynamic_learning_phase\n",
      "    not isinstance(K.learning_phase(), int))\n",
      "  File \"/Users/simmy/darden_env/lib/python3.6/site-packages/keras/backend/tensorflow_backend.py\", line 73, in symbolic_fn_wrapper\n",
      "    if _SYMBOLIC_SCOPE.value:\n",
      "AttributeError: '_thread._local' object has no attribute 'value'\n",
      "127.0.0.1 - - [01/Feb/2020 10:47:22] \"\u001b[1m\u001b[35mPOST / HTTP/1.1\u001b[0m\" 500 -\n"
     ]
    },
    {
     "name": "stdout",
     "output_type": "stream",
     "text": [
      "feeling sick\n",
      "['feeling sick']\n",
      "[[107 347   0   0   0   0   0   0   0   0   0   0   0   0   0   0   0   0\n",
      "    0   0   0   0   0   0   0   0   0   0   0   0   0   0   0   0   0   0\n",
      "    0   0   0   0   0   0   0   0   0   0   0   0   0   0   0   0   0   0\n",
      "    0   0   0   0   0   0   0   0   0   0   0   0   0   0   0   0   0   0\n",
      "    0   0   0   0   0   0   0   0   0   0   0   0   0   0   0   0   0   0\n",
      "    0   0   0   0   0   0   0   0   0   0   0   0   0   0   0   0   0   0\n",
      "    0   0   0   0   0   0   0   0   0   0   0   0   0   0   0   0   0   0\n",
      "    0   0   0   0   0   0   0   0   0   0   0   0   0   0   0   0   0   0\n",
      "    0   0   0   0   0   0   0   0   0   0   0   0   0   0   0   0   0   0\n",
      "    0   0   0   0   0   0   0   0   0   0   0   0   0   0   0   0   0   0\n",
      "    0   0   0   0   0   0   0   0   0   0   0   0   0   0   0   0   0   0\n",
      "    0   0   0]]\n"
     ]
    },
    {
     "name": "stderr",
     "output_type": "stream",
     "text": [
      "[2020-02-01 10:47:34,898] ERROR in app: Exception on / [POST]\n",
      "Traceback (most recent call last):\n",
      "  File \"/Users/simmy/darden_env/lib/python3.6/site-packages/flask/app.py\", line 2446, in wsgi_app\n",
      "    response = self.full_dispatch_request()\n",
      "  File \"/Users/simmy/darden_env/lib/python3.6/site-packages/flask/app.py\", line 1951, in full_dispatch_request\n",
      "    rv = self.handle_user_exception(e)\n",
      "  File \"/Users/simmy/darden_env/lib/python3.6/site-packages/flask/app.py\", line 1820, in handle_user_exception\n",
      "    reraise(exc_type, exc_value, tb)\n",
      "  File \"/Users/simmy/darden_env/lib/python3.6/site-packages/flask/_compat.py\", line 39, in reraise\n",
      "    raise value\n",
      "  File \"/Users/simmy/darden_env/lib/python3.6/site-packages/flask/app.py\", line 1949, in full_dispatch_request\n",
      "    rv = self.dispatch_request()\n",
      "  File \"/Users/simmy/darden_env/lib/python3.6/site-packages/flask/app.py\", line 1935, in dispatch_request\n",
      "    return self.view_functions[rule.endpoint](**req.view_args)\n",
      "  File \"<ipython-input-9-445b0ac77c88>\", line 14, in predict\n",
      "    prediction = int((1-np.asscalar(loaded_model.predict(textTokenized)))*100)\n",
      "  File \"/Users/simmy/darden_env/lib/python3.6/site-packages/keras/engine/training.py\", line 1452, in predict\n",
      "    if self._uses_dynamic_learning_phase():\n",
      "  File \"/Users/simmy/darden_env/lib/python3.6/site-packages/keras/engine/training.py\", line 382, in _uses_dynamic_learning_phase\n",
      "    not isinstance(K.learning_phase(), int))\n",
      "  File \"/Users/simmy/darden_env/lib/python3.6/site-packages/keras/backend/tensorflow_backend.py\", line 73, in symbolic_fn_wrapper\n",
      "    if _SYMBOLIC_SCOPE.value:\n",
      "AttributeError: '_thread._local' object has no attribute 'value'\n",
      "127.0.0.1 - - [01/Feb/2020 10:47:34] \"\u001b[1m\u001b[35mPOST / HTTP/1.1\u001b[0m\" 500 -\n"
     ]
    },
    {
     "name": "stdout",
     "output_type": "stream",
     "text": [
      "feeling sick\n",
      "['feeling sick']\n",
      "[[107 347   0   0   0   0   0   0   0   0   0   0   0   0   0   0   0   0\n",
      "    0   0   0   0   0   0   0   0   0   0   0   0   0   0   0   0   0   0\n",
      "    0   0   0   0   0   0   0   0   0   0   0   0   0   0   0   0   0   0\n",
      "    0   0   0   0   0   0   0   0   0   0   0   0   0   0   0   0   0   0\n",
      "    0   0   0   0   0   0   0   0   0   0   0   0   0   0   0   0   0   0\n",
      "    0   0   0   0   0   0   0   0   0   0   0   0   0   0   0   0   0   0\n",
      "    0   0   0   0   0   0   0   0   0   0   0   0   0   0   0   0   0   0\n",
      "    0   0   0   0   0   0   0   0   0   0   0   0   0   0   0   0   0   0\n",
      "    0   0   0   0   0   0   0   0   0   0   0   0   0   0   0   0   0   0\n",
      "    0   0   0   0   0   0   0   0   0   0   0   0   0   0   0   0   0   0\n",
      "    0   0   0   0   0   0   0   0   0   0   0   0   0   0   0   0   0   0\n",
      "    0   0   0]]\n"
     ]
    }
   ],
   "source": [
    "if __name__ == \"__main__\":\n",
    "    # start the flask app, allow remote connections\n",
    "    #decide what port to run the app in\n",
    "    port = int(os.environ.get('PORT', 5000))\n",
    "    #this ensures that updates to html/css/js will come through\n",
    "    app.jinja_env.auto_reload = True  \n",
    "    #run the app locally on the givn port\n",
    "    app.run(host='0.0.0.0', port=port) "
   ]
  }
 ],
 "metadata": {
  "kernelspec": {
   "display_name": "Python 3",
   "language": "python",
   "name": "python3"
  },
  "language_info": {
   "codemirror_mode": {
    "name": "ipython",
    "version": 3
   },
   "file_extension": ".py",
   "mimetype": "text/x-python",
   "name": "python",
   "nbconvert_exporter": "python",
   "pygments_lexer": "ipython3",
   "version": "3.6.4"
  }
 },
 "nbformat": 4,
 "nbformat_minor": 2
}
